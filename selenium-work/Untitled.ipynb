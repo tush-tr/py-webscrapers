{
 "cells": [
  {
   "cell_type": "code",
   "execution_count": 16,
   "metadata": {},
   "outputs": [],
   "source": [
    "import webbrowser\n",
    "import requests\n"
   ]
  },
  {
   "cell_type": "code",
   "execution_count": 2,
   "metadata": {},
   "outputs": [
    {
     "data": {
      "text/plain": [
       "True"
      ]
     },
     "execution_count": 2,
     "metadata": {},
     "output_type": "execute_result"
    }
   ],
   "source": [
    "webbrowser.open(\"https://automatetheboringstuff.com/\") # open the url in the browser"
   ]
  },
  {
   "cell_type": "code",
   "execution_count": 5,
   "metadata": {},
   "outputs": [],
   "source": [
    "res = requests.get(\"https://automatetheboringstuff.com/files/rj.txt\")\n"
   ]
  },
  {
   "cell_type": "code",
   "execution_count": 7,
   "metadata": {},
   "outputs": [],
   "source": [
    "# res.text"
   ]
  },
  {
   "cell_type": "code",
   "execution_count": 8,
   "metadata": {},
   "outputs": [],
   "source": [
    "downfile = open('download.txt','wb')"
   ]
  },
  {
   "cell_type": "code",
   "execution_count": 14,
   "metadata": {},
   "outputs": [],
   "source": [
    "for i in res:\n",
    "    downfile.write(i)"
   ]
  },
  {
   "cell_type": "code",
   "execution_count": 19,
   "metadata": {},
   "outputs": [],
   "source": [
    "import bs4"
   ]
  },
  {
   "cell_type": "code",
   "execution_count": 28,
   "metadata": {},
   "outputs": [],
   "source": [
    "res = requests.get(\"https://www.amazon.in/Samsung-Galaxy-Electric-Blue-128GB-Storage/dp/B085J1J32G/ref=br_msw_pdt-3?_encoding=UTF8&smid=A1EWEIV3F4B24B&pf_rd_m=A1VBAL9TL5WCBF&pf_rd_s=&pf_rd_r=RPQKJ3SYQS01W8Y5B34M&pf_rd_t=36701&pf_rd_p=5c669f94-aee5-4b22-81f8-1d301ca2c6a3&pf_rd_i=desktop\")"
   ]
  },
  {
   "cell_type": "code",
   "execution_count": 29,
   "metadata": {},
   "outputs": [],
   "source": [
    "soup = bs4.BeautifulSoup(res.text,'html.parser')"
   ]
  },
  {
   "cell_type": "code",
   "execution_count": 27,
   "metadata": {},
   "outputs": [],
   "source": [
    "# soup"
   ]
  },
  {
   "cell_type": "code",
   "execution_count": 41,
   "metadata": {},
   "outputs": [],
   "source": [
    "elems = soup.find_all('div')"
   ]
  },
  {
   "cell_type": "code",
   "execution_count": 48,
   "metadata": {},
   "outputs": [
    {
     "name": "stdout",
     "output_type": "stream",
     "text": [
      "['a-container', 'a-padding-double-large']\n",
      "['a-row', 'a-spacing-double-large']\n",
      "['a-row', 'a-spacing-medium', 'a-text-center']\n",
      "['a-box', 'a-alert', 'a-alert-info', 'a-spacing-base']\n",
      "['a-box-inner']\n",
      "['a-section']\n",
      "['a-box', 'a-color-offset-background']\n",
      "['a-box-inner', 'a-padding-extra-large']\n",
      "['a-row', 'a-spacing-large']\n",
      "['a-box']\n",
      "['a-box-inner']\n",
      "['a-row', 'a-text-center']\n",
      "['a-row', 'a-spacing-base']\n",
      "['a-row']\n",
      "['a-column', 'a-span6']\n",
      "['a-column', 'a-span6', 'a-span-last', 'a-text-right']\n",
      "['a-section', 'a-spacing-extra-large']\n",
      "['a-row']\n",
      "['a-divider', 'a-divider-section']\n",
      "['a-divider-inner']\n",
      "['a-text-center', 'a-spacing-small', 'a-size-mini']\n",
      "['a-text-center', 'a-size-mini', 'a-color-secondary']\n"
     ]
    }
   ],
   "source": [
    "elems"
   ]
  },
  {
   "cell_type": "code",
   "execution_count": null,
   "metadata": {},
   "outputs": [],
   "source": []
  }
 ],
 "metadata": {
  "kernelspec": {
   "display_name": "Python 3",
   "language": "python",
   "name": "python3"
  },
  "language_info": {
   "codemirror_mode": {
    "name": "ipython",
    "version": 3
   },
   "file_extension": ".py",
   "mimetype": "text/x-python",
   "name": "python",
   "nbconvert_exporter": "python",
   "pygments_lexer": "ipython3",
   "version": "3.8.2"
  }
 },
 "nbformat": 4,
 "nbformat_minor": 4
}
