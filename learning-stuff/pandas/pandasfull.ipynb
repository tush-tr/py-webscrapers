{
 "cells": [
  {
   "cell_type": "code",
   "execution_count": 1,
   "metadata": {},
   "outputs": [],
   "source": [
    "import pandas as pd\n",
    "import numpy as np"
   ]
  },
  {
   "cell_type": "code",
   "execution_count": 2,
   "metadata": {},
   "outputs": [],
   "source": [
    "dict1 = {\n",
    "    \"name\":['harry','rohan','skillf','shubh'],\"marks\":[12,34,24,67]\n",
    ",\"city\":['rampur','kolkata','bareily','antarktika']}"
   ]
  },
  {
   "cell_type": "markdown",
   "metadata": {},
   "source": [
    "<h2>Data frames</h2>\n",
    "we can simply convert any dictionary or data into indexes like excel files or csv file \n",
    "using the function .DataFrame()"
   ]
  },
  {
   "cell_type": "code",
   "execution_count": 3,
   "metadata": {},
   "outputs": [],
   "source": [
    "frame = pd.DataFrame(dict1)"
   ]
  },
  {
   "cell_type": "code",
   "execution_count": 4,
   "metadata": {},
   "outputs": [
    {
     "data": {
      "text/html": [
       "<div>\n",
       "<style scoped>\n",
       "    .dataframe tbody tr th:only-of-type {\n",
       "        vertical-align: middle;\n",
       "    }\n",
       "\n",
       "    .dataframe tbody tr th {\n",
       "        vertical-align: top;\n",
       "    }\n",
       "\n",
       "    .dataframe thead th {\n",
       "        text-align: right;\n",
       "    }\n",
       "</style>\n",
       "<table border=\"1\" class=\"dataframe\">\n",
       "  <thead>\n",
       "    <tr style=\"text-align: right;\">\n",
       "      <th></th>\n",
       "      <th>name</th>\n",
       "      <th>marks</th>\n",
       "      <th>city</th>\n",
       "    </tr>\n",
       "  </thead>\n",
       "  <tbody>\n",
       "    <tr>\n",
       "      <th>0</th>\n",
       "      <td>harry</td>\n",
       "      <td>12</td>\n",
       "      <td>rampur</td>\n",
       "    </tr>\n",
       "    <tr>\n",
       "      <th>1</th>\n",
       "      <td>rohan</td>\n",
       "      <td>34</td>\n",
       "      <td>kolkata</td>\n",
       "    </tr>\n",
       "    <tr>\n",
       "      <th>2</th>\n",
       "      <td>skillf</td>\n",
       "      <td>24</td>\n",
       "      <td>bareily</td>\n",
       "    </tr>\n",
       "    <tr>\n",
       "      <th>3</th>\n",
       "      <td>shubh</td>\n",
       "      <td>67</td>\n",
       "      <td>antarktika</td>\n",
       "    </tr>\n",
       "  </tbody>\n",
       "</table>\n",
       "</div>"
      ],
      "text/plain": [
       "     name  marks        city\n",
       "0   harry     12      rampur\n",
       "1   rohan     34     kolkata\n",
       "2  skillf     24     bareily\n",
       "3   shubh     67  antarktika"
      ]
     },
     "execution_count": 4,
     "metadata": {},
     "output_type": "execute_result"
    }
   ],
   "source": [
    "frame"
   ]
  },
  {
   "cell_type": "markdown",
   "metadata": {},
   "source": [
    "We are using index=False function if we dont want these rows numbers or indexes"
   ]
  },
  {
   "cell_type": "code",
   "execution_count": 5,
   "metadata": {},
   "outputs": [],
   "source": [
    "# we can export this dataframe into a csv file\n",
    "frame.to_csv('frndflse.csv',index=False)"
   ]
  },
  {
   "cell_type": "markdown",
   "metadata": {},
   "source": [
    "<h3>if data set is too large</h3>\n",
    "We can use the function .head() it will show the starting rows of the dataframe"
   ]
  },
  {
   "cell_type": "code",
   "execution_count": 6,
   "metadata": {},
   "outputs": [
    {
     "data": {
      "text/html": [
       "<div>\n",
       "<style scoped>\n",
       "    .dataframe tbody tr th:only-of-type {\n",
       "        vertical-align: middle;\n",
       "    }\n",
       "\n",
       "    .dataframe tbody tr th {\n",
       "        vertical-align: top;\n",
       "    }\n",
       "\n",
       "    .dataframe thead th {\n",
       "        text-align: right;\n",
       "    }\n",
       "</style>\n",
       "<table border=\"1\" class=\"dataframe\">\n",
       "  <thead>\n",
       "    <tr style=\"text-align: right;\">\n",
       "      <th></th>\n",
       "      <th>name</th>\n",
       "      <th>marks</th>\n",
       "      <th>city</th>\n",
       "    </tr>\n",
       "  </thead>\n",
       "  <tbody>\n",
       "    <tr>\n",
       "      <th>0</th>\n",
       "      <td>harry</td>\n",
       "      <td>12</td>\n",
       "      <td>rampur</td>\n",
       "    </tr>\n",
       "    <tr>\n",
       "      <th>1</th>\n",
       "      <td>rohan</td>\n",
       "      <td>34</td>\n",
       "      <td>kolkata</td>\n",
       "    </tr>\n",
       "  </tbody>\n",
       "</table>\n",
       "</div>"
      ],
      "text/plain": [
       "    name  marks     city\n",
       "0  harry     12   rampur\n",
       "1  rohan     34  kolkata"
      ]
     },
     "execution_count": 6,
     "metadata": {},
     "output_type": "execute_result"
    }
   ],
   "source": [
    "frame.head(2) #we can assign the value between paranthesis how many rows we want to see"
   ]
  },
  {
   "cell_type": "markdown",
   "metadata": {},
   "source": [
    "If we want to see the end numbers of rows we can use .tail() function"
   ]
  },
  {
   "cell_type": "code",
   "execution_count": 7,
   "metadata": {},
   "outputs": [
    {
     "data": {
      "text/html": [
       "<div>\n",
       "<style scoped>\n",
       "    .dataframe tbody tr th:only-of-type {\n",
       "        vertical-align: middle;\n",
       "    }\n",
       "\n",
       "    .dataframe tbody tr th {\n",
       "        vertical-align: top;\n",
       "    }\n",
       "\n",
       "    .dataframe thead th {\n",
       "        text-align: right;\n",
       "    }\n",
       "</style>\n",
       "<table border=\"1\" class=\"dataframe\">\n",
       "  <thead>\n",
       "    <tr style=\"text-align: right;\">\n",
       "      <th></th>\n",
       "      <th>name</th>\n",
       "      <th>marks</th>\n",
       "      <th>city</th>\n",
       "    </tr>\n",
       "  </thead>\n",
       "  <tbody>\n",
       "    <tr>\n",
       "      <th>2</th>\n",
       "      <td>skillf</td>\n",
       "      <td>24</td>\n",
       "      <td>bareily</td>\n",
       "    </tr>\n",
       "    <tr>\n",
       "      <th>3</th>\n",
       "      <td>shubh</td>\n",
       "      <td>67</td>\n",
       "      <td>antarktika</td>\n",
       "    </tr>\n",
       "  </tbody>\n",
       "</table>\n",
       "</div>"
      ],
      "text/plain": [
       "     name  marks        city\n",
       "2  skillf     24     bareily\n",
       "3   shubh     67  antarktika"
      ]
     },
     "execution_count": 7,
     "metadata": {},
     "output_type": "execute_result"
    }
   ],
   "source": [
    "frame.tail(2)"
   ]
  },
  {
   "cell_type": "markdown",
   "metadata": {},
   "source": [
    "<h3>Describe function</h3>\n",
    "we can use .describe function for statistical analysis "
   ]
  },
  {
   "cell_type": "code",
   "execution_count": 8,
   "metadata": {},
   "outputs": [
    {
     "data": {
      "text/html": [
       "<div>\n",
       "<style scoped>\n",
       "    .dataframe tbody tr th:only-of-type {\n",
       "        vertical-align: middle;\n",
       "    }\n",
       "\n",
       "    .dataframe tbody tr th {\n",
       "        vertical-align: top;\n",
       "    }\n",
       "\n",
       "    .dataframe thead th {\n",
       "        text-align: right;\n",
       "    }\n",
       "</style>\n",
       "<table border=\"1\" class=\"dataframe\">\n",
       "  <thead>\n",
       "    <tr style=\"text-align: right;\">\n",
       "      <th></th>\n",
       "      <th>marks</th>\n",
       "    </tr>\n",
       "  </thead>\n",
       "  <tbody>\n",
       "    <tr>\n",
       "      <th>count</th>\n",
       "      <td>4.000000</td>\n",
       "    </tr>\n",
       "    <tr>\n",
       "      <th>mean</th>\n",
       "      <td>34.250000</td>\n",
       "    </tr>\n",
       "    <tr>\n",
       "      <th>std</th>\n",
       "      <td>23.613203</td>\n",
       "    </tr>\n",
       "    <tr>\n",
       "      <th>min</th>\n",
       "      <td>12.000000</td>\n",
       "    </tr>\n",
       "    <tr>\n",
       "      <th>25%</th>\n",
       "      <td>21.000000</td>\n",
       "    </tr>\n",
       "    <tr>\n",
       "      <th>50%</th>\n",
       "      <td>29.000000</td>\n",
       "    </tr>\n",
       "    <tr>\n",
       "      <th>75%</th>\n",
       "      <td>42.250000</td>\n",
       "    </tr>\n",
       "    <tr>\n",
       "      <th>max</th>\n",
       "      <td>67.000000</td>\n",
       "    </tr>\n",
       "  </tbody>\n",
       "</table>\n",
       "</div>"
      ],
      "text/plain": [
       "           marks\n",
       "count   4.000000\n",
       "mean   34.250000\n",
       "std    23.613203\n",
       "min    12.000000\n",
       "25%    21.000000\n",
       "50%    29.000000\n",
       "75%    42.250000\n",
       "max    67.000000"
      ]
     },
     "execution_count": 8,
     "metadata": {},
     "output_type": "execute_result"
    }
   ],
   "source": [
    "frame.describe()"
   ]
  },
  {
   "cell_type": "markdown",
   "metadata": {},
   "source": [
    "<h2>Reading a csv file</h2>\n",
    "We can read any csv file and create dataframe for assigining it simply using pd.read_csv function"
   ]
  },
  {
   "cell_type": "code",
   "execution_count": 9,
   "metadata": {},
   "outputs": [],
   "source": [
    "new = pd.read_csv('ttt.csv.csv')"
   ]
  },
  {
   "cell_type": "code",
   "execution_count": 10,
   "metadata": {},
   "outputs": [
    {
     "data": {
      "text/html": [
       "<div>\n",
       "<style scoped>\n",
       "    .dataframe tbody tr th:only-of-type {\n",
       "        vertical-align: middle;\n",
       "    }\n",
       "\n",
       "    .dataframe tbody tr th {\n",
       "        vertical-align: top;\n",
       "    }\n",
       "\n",
       "    .dataframe thead th {\n",
       "        text-align: right;\n",
       "    }\n",
       "</style>\n",
       "<table border=\"1\" class=\"dataframe\">\n",
       "  <thead>\n",
       "    <tr style=\"text-align: right;\">\n",
       "      <th></th>\n",
       "      <th>train no.</th>\n",
       "      <th>speed</th>\n",
       "      <th>city</th>\n",
       "    </tr>\n",
       "  </thead>\n",
       "  <tbody>\n",
       "    <tr>\n",
       "      <th>0</th>\n",
       "      <td>123</td>\n",
       "      <td>12</td>\n",
       "      <td>rampur</td>\n",
       "    </tr>\n",
       "    <tr>\n",
       "      <th>1</th>\n",
       "      <td>2435</td>\n",
       "      <td>34</td>\n",
       "      <td>kolkata</td>\n",
       "    </tr>\n",
       "    <tr>\n",
       "      <th>2</th>\n",
       "      <td>235</td>\n",
       "      <td>24</td>\n",
       "      <td>bareily</td>\n",
       "    </tr>\n",
       "    <tr>\n",
       "      <th>3</th>\n",
       "      <td>35665</td>\n",
       "      <td>67</td>\n",
       "      <td>antarktika</td>\n",
       "    </tr>\n",
       "  </tbody>\n",
       "</table>\n",
       "</div>"
      ],
      "text/plain": [
       "   train no.  speed        city\n",
       "0        123     12      rampur\n",
       "1       2435     34     kolkata\n",
       "2        235     24     bareily\n",
       "3      35665     67  antarktika"
      ]
     },
     "execution_count": 10,
     "metadata": {},
     "output_type": "execute_result"
    }
   ],
   "source": [
    "new"
   ]
  },
  {
   "cell_type": "code",
   "execution_count": 11,
   "metadata": {},
   "outputs": [
    {
     "data": {
      "text/plain": [
       "'rampur'"
      ]
     },
     "execution_count": 11,
     "metadata": {},
     "output_type": "execute_result"
    }
   ],
   "source": [
    "\n",
    "new['city'][0]# where 0 is index"
   ]
  },
  {
   "cell_type": "markdown",
   "metadata": {},
   "source": [
    "We can change any value by assigning it like..."
   ]
  },
  {
   "cell_type": "code",
   "execution_count": 12,
   "metadata": {},
   "outputs": [
    {
     "name": "stderr",
     "output_type": "stream",
     "text": [
      "<ipython-input-12-ab6324409055>:1: SettingWithCopyWarning: \n",
      "A value is trying to be set on a copy of a slice from a DataFrame\n",
      "\n",
      "See the caveats in the documentation: https://pandas.pydata.org/pandas-docs/stable/user_guide/indexing.html#returning-a-view-versus-a-copy\n",
      "  new['speed'][0] = 50\n"
     ]
    }
   ],
   "source": [
    "new['speed'][0] = 50"
   ]
  },
  {
   "cell_type": "code",
   "execution_count": 13,
   "metadata": {},
   "outputs": [
    {
     "data": {
      "text/html": [
       "<div>\n",
       "<style scoped>\n",
       "    .dataframe tbody tr th:only-of-type {\n",
       "        vertical-align: middle;\n",
       "    }\n",
       "\n",
       "    .dataframe tbody tr th {\n",
       "        vertical-align: top;\n",
       "    }\n",
       "\n",
       "    .dataframe thead th {\n",
       "        text-align: right;\n",
       "    }\n",
       "</style>\n",
       "<table border=\"1\" class=\"dataframe\">\n",
       "  <thead>\n",
       "    <tr style=\"text-align: right;\">\n",
       "      <th></th>\n",
       "      <th>train no.</th>\n",
       "      <th>speed</th>\n",
       "      <th>city</th>\n",
       "    </tr>\n",
       "  </thead>\n",
       "  <tbody>\n",
       "    <tr>\n",
       "      <th>0</th>\n",
       "      <td>123</td>\n",
       "      <td>50</td>\n",
       "      <td>rampur</td>\n",
       "    </tr>\n",
       "    <tr>\n",
       "      <th>1</th>\n",
       "      <td>2435</td>\n",
       "      <td>34</td>\n",
       "      <td>kolkata</td>\n",
       "    </tr>\n",
       "    <tr>\n",
       "      <th>2</th>\n",
       "      <td>235</td>\n",
       "      <td>24</td>\n",
       "      <td>bareily</td>\n",
       "    </tr>\n",
       "    <tr>\n",
       "      <th>3</th>\n",
       "      <td>35665</td>\n",
       "      <td>67</td>\n",
       "      <td>antarktika</td>\n",
       "    </tr>\n",
       "  </tbody>\n",
       "</table>\n",
       "</div>"
      ],
      "text/plain": [
       "   train no.  speed        city\n",
       "0        123     50      rampur\n",
       "1       2435     34     kolkata\n",
       "2        235     24     bareily\n",
       "3      35665     67  antarktika"
      ]
     },
     "execution_count": 13,
     "metadata": {},
     "output_type": "execute_result"
    }
   ],
   "source": [
    "new"
   ]
  },
  {
   "cell_type": "code",
   "execution_count": 14,
   "metadata": {},
   "outputs": [],
   "source": [
    "new.to_csv('change1.csv')"
   ]
  },
  {
   "cell_type": "markdown",
   "metadata": {},
   "source": [
    "<h2>Changing the indexes</h2>"
   ]
  },
  {
   "cell_type": "code",
   "execution_count": 15,
   "metadata": {},
   "outputs": [],
   "source": [
    "\n",
    "new.index = ['first','second','third','fourth']"
   ]
  },
  {
   "cell_type": "code",
   "execution_count": 16,
   "metadata": {},
   "outputs": [
    {
     "data": {
      "text/html": [
       "<div>\n",
       "<style scoped>\n",
       "    .dataframe tbody tr th:only-of-type {\n",
       "        vertical-align: middle;\n",
       "    }\n",
       "\n",
       "    .dataframe tbody tr th {\n",
       "        vertical-align: top;\n",
       "    }\n",
       "\n",
       "    .dataframe thead th {\n",
       "        text-align: right;\n",
       "    }\n",
       "</style>\n",
       "<table border=\"1\" class=\"dataframe\">\n",
       "  <thead>\n",
       "    <tr style=\"text-align: right;\">\n",
       "      <th></th>\n",
       "      <th>train no.</th>\n",
       "      <th>speed</th>\n",
       "      <th>city</th>\n",
       "    </tr>\n",
       "  </thead>\n",
       "  <tbody>\n",
       "    <tr>\n",
       "      <th>first</th>\n",
       "      <td>123</td>\n",
       "      <td>50</td>\n",
       "      <td>rampur</td>\n",
       "    </tr>\n",
       "    <tr>\n",
       "      <th>second</th>\n",
       "      <td>2435</td>\n",
       "      <td>34</td>\n",
       "      <td>kolkata</td>\n",
       "    </tr>\n",
       "    <tr>\n",
       "      <th>third</th>\n",
       "      <td>235</td>\n",
       "      <td>24</td>\n",
       "      <td>bareily</td>\n",
       "    </tr>\n",
       "    <tr>\n",
       "      <th>fourth</th>\n",
       "      <td>35665</td>\n",
       "      <td>67</td>\n",
       "      <td>antarktika</td>\n",
       "    </tr>\n",
       "  </tbody>\n",
       "</table>\n",
       "</div>"
      ],
      "text/plain": [
       "        train no.  speed        city\n",
       "first         123     50      rampur\n",
       "second       2435     34     kolkata\n",
       "third         235     24     bareily\n",
       "fourth      35665     67  antarktika"
      ]
     },
     "execution_count": 16,
     "metadata": {},
     "output_type": "execute_result"
    }
   ],
   "source": [
    "new"
   ]
  },
  {
   "cell_type": "markdown",
   "metadata": {},
   "source": [
    "<h1>Series</h1> \n",
    "Series is a data structure in pandas. \n",
    "it is an one dimensional array with indexes, stores a single column or row of data in Dataframe.\n"
   ]
  },
  {
   "cell_type": "code",
   "execution_count": 17,
   "metadata": {},
   "outputs": [],
   "source": [
    "ser = pd.Series(np.random.rand(34))"
   ]
  },
  {
   "cell_type": "code",
   "execution_count": 18,
   "metadata": {},
   "outputs": [],
   "source": [
    "# ser"
   ]
  },
  {
   "cell_type": "code",
   "execution_count": 19,
   "metadata": {},
   "outputs": [
    {
     "data": {
      "text/plain": [
       "pandas.core.series.Series"
      ]
     },
     "execution_count": 19,
     "metadata": {},
     "output_type": "execute_result"
    }
   ],
   "source": [
    "type(ser)"
   ]
  },
  {
   "cell_type": "code",
   "execution_count": 20,
   "metadata": {},
   "outputs": [],
   "source": [
    "newdf = pd.DataFrame(np.random.rand(334,5), index=np.arange(334))"
   ]
  },
  {
   "cell_type": "code",
   "execution_count": 21,
   "metadata": {},
   "outputs": [
    {
     "data": {
      "text/html": [
       "<div>\n",
       "<style scoped>\n",
       "    .dataframe tbody tr th:only-of-type {\n",
       "        vertical-align: middle;\n",
       "    }\n",
       "\n",
       "    .dataframe tbody tr th {\n",
       "        vertical-align: top;\n",
       "    }\n",
       "\n",
       "    .dataframe thead th {\n",
       "        text-align: right;\n",
       "    }\n",
       "</style>\n",
       "<table border=\"1\" class=\"dataframe\">\n",
       "  <thead>\n",
       "    <tr style=\"text-align: right;\">\n",
       "      <th></th>\n",
       "      <th>0</th>\n",
       "      <th>1</th>\n",
       "      <th>2</th>\n",
       "      <th>3</th>\n",
       "      <th>4</th>\n",
       "    </tr>\n",
       "  </thead>\n",
       "  <tbody>\n",
       "    <tr>\n",
       "      <th>0</th>\n",
       "      <td>0.999487</td>\n",
       "      <td>0.365850</td>\n",
       "      <td>0.783717</td>\n",
       "      <td>0.545371</td>\n",
       "      <td>0.146589</td>\n",
       "    </tr>\n",
       "    <tr>\n",
       "      <th>1</th>\n",
       "      <td>0.539377</td>\n",
       "      <td>0.203045</td>\n",
       "      <td>0.530070</td>\n",
       "      <td>0.448562</td>\n",
       "      <td>0.619271</td>\n",
       "    </tr>\n",
       "    <tr>\n",
       "      <th>2</th>\n",
       "      <td>0.555601</td>\n",
       "      <td>0.115916</td>\n",
       "      <td>0.402486</td>\n",
       "      <td>0.737475</td>\n",
       "      <td>0.813815</td>\n",
       "    </tr>\n",
       "    <tr>\n",
       "      <th>3</th>\n",
       "      <td>0.284190</td>\n",
       "      <td>0.620939</td>\n",
       "      <td>0.954778</td>\n",
       "      <td>0.058859</td>\n",
       "      <td>0.789269</td>\n",
       "    </tr>\n",
       "    <tr>\n",
       "      <th>4</th>\n",
       "      <td>0.846540</td>\n",
       "      <td>0.519684</td>\n",
       "      <td>0.267255</td>\n",
       "      <td>0.927446</td>\n",
       "      <td>0.360093</td>\n",
       "    </tr>\n",
       "  </tbody>\n",
       "</table>\n",
       "</div>"
      ],
      "text/plain": [
       "          0         1         2         3         4\n",
       "0  0.999487  0.365850  0.783717  0.545371  0.146589\n",
       "1  0.539377  0.203045  0.530070  0.448562  0.619271\n",
       "2  0.555601  0.115916  0.402486  0.737475  0.813815\n",
       "3  0.284190  0.620939  0.954778  0.058859  0.789269\n",
       "4  0.846540  0.519684  0.267255  0.927446  0.360093"
      ]
     },
     "execution_count": 21,
     "metadata": {},
     "output_type": "execute_result"
    }
   ],
   "source": [
    "newdf.head()"
   ]
  },
  {
   "cell_type": "code",
   "execution_count": 22,
   "metadata": {},
   "outputs": [
    {
     "data": {
      "text/plain": [
       "pandas.core.frame.DataFrame"
      ]
     },
     "execution_count": 22,
     "metadata": {},
     "output_type": "execute_result"
    }
   ],
   "source": [
    "type(newdf)"
   ]
  },
  {
   "cell_type": "code",
   "execution_count": 23,
   "metadata": {},
   "outputs": [
    {
     "data": {
      "text/html": [
       "<div>\n",
       "<style scoped>\n",
       "    .dataframe tbody tr th:only-of-type {\n",
       "        vertical-align: middle;\n",
       "    }\n",
       "\n",
       "    .dataframe tbody tr th {\n",
       "        vertical-align: top;\n",
       "    }\n",
       "\n",
       "    .dataframe thead th {\n",
       "        text-align: right;\n",
       "    }\n",
       "</style>\n",
       "<table border=\"1\" class=\"dataframe\">\n",
       "  <thead>\n",
       "    <tr style=\"text-align: right;\">\n",
       "      <th></th>\n",
       "      <th>0</th>\n",
       "      <th>1</th>\n",
       "      <th>2</th>\n",
       "      <th>3</th>\n",
       "      <th>4</th>\n",
       "    </tr>\n",
       "  </thead>\n",
       "  <tbody>\n",
       "    <tr>\n",
       "      <th>count</th>\n",
       "      <td>334.000000</td>\n",
       "      <td>334.000000</td>\n",
       "      <td>334.000000</td>\n",
       "      <td>334.000000</td>\n",
       "      <td>334.000000</td>\n",
       "    </tr>\n",
       "    <tr>\n",
       "      <th>mean</th>\n",
       "      <td>0.480797</td>\n",
       "      <td>0.497537</td>\n",
       "      <td>0.504528</td>\n",
       "      <td>0.476681</td>\n",
       "      <td>0.507495</td>\n",
       "    </tr>\n",
       "    <tr>\n",
       "      <th>std</th>\n",
       "      <td>0.286352</td>\n",
       "      <td>0.305216</td>\n",
       "      <td>0.294558</td>\n",
       "      <td>0.291653</td>\n",
       "      <td>0.279650</td>\n",
       "    </tr>\n",
       "    <tr>\n",
       "      <th>min</th>\n",
       "      <td>0.001466</td>\n",
       "      <td>0.002408</td>\n",
       "      <td>0.002793</td>\n",
       "      <td>0.008795</td>\n",
       "      <td>0.004534</td>\n",
       "    </tr>\n",
       "    <tr>\n",
       "      <th>25%</th>\n",
       "      <td>0.236155</td>\n",
       "      <td>0.206229</td>\n",
       "      <td>0.259801</td>\n",
       "      <td>0.216551</td>\n",
       "      <td>0.280772</td>\n",
       "    </tr>\n",
       "    <tr>\n",
       "      <th>50%</th>\n",
       "      <td>0.492712</td>\n",
       "      <td>0.487906</td>\n",
       "      <td>0.520929</td>\n",
       "      <td>0.451338</td>\n",
       "      <td>0.513523</td>\n",
       "    </tr>\n",
       "    <tr>\n",
       "      <th>75%</th>\n",
       "      <td>0.720155</td>\n",
       "      <td>0.768986</td>\n",
       "      <td>0.763338</td>\n",
       "      <td>0.723267</td>\n",
       "      <td>0.742332</td>\n",
       "    </tr>\n",
       "    <tr>\n",
       "      <th>max</th>\n",
       "      <td>0.999487</td>\n",
       "      <td>0.995135</td>\n",
       "      <td>0.999979</td>\n",
       "      <td>0.995716</td>\n",
       "      <td>0.998076</td>\n",
       "    </tr>\n",
       "  </tbody>\n",
       "</table>\n",
       "</div>"
      ],
      "text/plain": [
       "                0           1           2           3           4\n",
       "count  334.000000  334.000000  334.000000  334.000000  334.000000\n",
       "mean     0.480797    0.497537    0.504528    0.476681    0.507495\n",
       "std      0.286352    0.305216    0.294558    0.291653    0.279650\n",
       "min      0.001466    0.002408    0.002793    0.008795    0.004534\n",
       "25%      0.236155    0.206229    0.259801    0.216551    0.280772\n",
       "50%      0.492712    0.487906    0.520929    0.451338    0.513523\n",
       "75%      0.720155    0.768986    0.763338    0.723267    0.742332\n",
       "max      0.999487    0.995135    0.999979    0.995716    0.998076"
      ]
     },
     "execution_count": 23,
     "metadata": {},
     "output_type": "execute_result"
    }
   ],
   "source": [
    "newdf.describe()"
   ]
  },
  {
   "cell_type": "code",
   "execution_count": 24,
   "metadata": {},
   "outputs": [
    {
     "data": {
      "text/plain": [
       "0    float64\n",
       "1    float64\n",
       "2    float64\n",
       "3    float64\n",
       "4    float64\n",
       "dtype: object"
      ]
     },
     "execution_count": 24,
     "metadata": {},
     "output_type": "execute_result"
    }
   ],
   "source": [
    "newdf.dtypes"
   ]
  },
  {
   "cell_type": "code",
   "execution_count": 25,
   "metadata": {},
   "outputs": [],
   "source": [
    "newdf[0][0] = 'tush'"
   ]
  },
  {
   "cell_type": "code",
   "execution_count": 26,
   "metadata": {},
   "outputs": [
    {
     "data": {
      "text/plain": [
       "0     object\n",
       "1    float64\n",
       "2    float64\n",
       "3    float64\n",
       "4    float64\n",
       "dtype: object"
      ]
     },
     "execution_count": 26,
     "metadata": {},
     "output_type": "execute_result"
    }
   ],
   "source": [
    "newdf.dtypes #type is changes into object"
   ]
  },
  {
   "cell_type": "code",
   "execution_count": 27,
   "metadata": {},
   "outputs": [
    {
     "data": {
      "text/html": [
       "<div>\n",
       "<style scoped>\n",
       "    .dataframe tbody tr th:only-of-type {\n",
       "        vertical-align: middle;\n",
       "    }\n",
       "\n",
       "    .dataframe tbody tr th {\n",
       "        vertical-align: top;\n",
       "    }\n",
       "\n",
       "    .dataframe thead th {\n",
       "        text-align: right;\n",
       "    }\n",
       "</style>\n",
       "<table border=\"1\" class=\"dataframe\">\n",
       "  <thead>\n",
       "    <tr style=\"text-align: right;\">\n",
       "      <th></th>\n",
       "      <th>0</th>\n",
       "      <th>1</th>\n",
       "      <th>2</th>\n",
       "      <th>3</th>\n",
       "      <th>4</th>\n",
       "    </tr>\n",
       "  </thead>\n",
       "  <tbody>\n",
       "    <tr>\n",
       "      <th>0</th>\n",
       "      <td>tush</td>\n",
       "      <td>0.365850</td>\n",
       "      <td>0.783717</td>\n",
       "      <td>0.545371</td>\n",
       "      <td>0.146589</td>\n",
       "    </tr>\n",
       "    <tr>\n",
       "      <th>1</th>\n",
       "      <td>0.539377</td>\n",
       "      <td>0.203045</td>\n",
       "      <td>0.530070</td>\n",
       "      <td>0.448562</td>\n",
       "      <td>0.619271</td>\n",
       "    </tr>\n",
       "    <tr>\n",
       "      <th>2</th>\n",
       "      <td>0.555601</td>\n",
       "      <td>0.115916</td>\n",
       "      <td>0.402486</td>\n",
       "      <td>0.737475</td>\n",
       "      <td>0.813815</td>\n",
       "    </tr>\n",
       "    <tr>\n",
       "      <th>3</th>\n",
       "      <td>0.28419</td>\n",
       "      <td>0.620939</td>\n",
       "      <td>0.954778</td>\n",
       "      <td>0.058859</td>\n",
       "      <td>0.789269</td>\n",
       "    </tr>\n",
       "    <tr>\n",
       "      <th>4</th>\n",
       "      <td>0.84654</td>\n",
       "      <td>0.519684</td>\n",
       "      <td>0.267255</td>\n",
       "      <td>0.927446</td>\n",
       "      <td>0.360093</td>\n",
       "    </tr>\n",
       "  </tbody>\n",
       "</table>\n",
       "</div>"
      ],
      "text/plain": [
       "          0         1         2         3         4\n",
       "0      tush  0.365850  0.783717  0.545371  0.146589\n",
       "1  0.539377  0.203045  0.530070  0.448562  0.619271\n",
       "2  0.555601  0.115916  0.402486  0.737475  0.813815\n",
       "3   0.28419  0.620939  0.954778  0.058859  0.789269\n",
       "4   0.84654  0.519684  0.267255  0.927446  0.360093"
      ]
     },
     "execution_count": 27,
     "metadata": {},
     "output_type": "execute_result"
    }
   ],
   "source": [
    "newdf.head() #value is changed"
   ]
  },
  {
   "cell_type": "markdown",
   "metadata": {},
   "source": [
    "<h3>We can see index and columns by</h3>"
   ]
  },
  {
   "cell_type": "code",
   "execution_count": 28,
   "metadata": {},
   "outputs": [
    {
     "data": {
      "text/plain": [
       "Int64Index([  0,   1,   2,   3,   4,   5,   6,   7,   8,   9,\n",
       "            ...\n",
       "            324, 325, 326, 327, 328, 329, 330, 331, 332, 333],\n",
       "           dtype='int64', length=334)"
      ]
     },
     "execution_count": 28,
     "metadata": {},
     "output_type": "execute_result"
    }
   ],
   "source": [
    "newdf.index"
   ]
  },
  {
   "cell_type": "code",
   "execution_count": 29,
   "metadata": {},
   "outputs": [
    {
     "data": {
      "text/plain": [
       "RangeIndex(start=0, stop=5, step=1)"
      ]
     },
     "execution_count": 29,
     "metadata": {},
     "output_type": "execute_result"
    }
   ],
   "source": [
    "newdf.columns"
   ]
  },
  {
   "cell_type": "markdown",
   "metadata": {},
   "source": [
    "<h3>converting dataframe into numpy array</h3>"
   ]
  },
  {
   "cell_type": "code",
   "execution_count": 30,
   "metadata": {},
   "outputs": [
    {
     "data": {
      "text/plain": [
       "array([['tush', 0.36585044037172965, 0.7837165452870707,\n",
       "        0.5453709542469565, 0.14658916708777703],\n",
       "       [0.539376954489997, 0.20304523740618585, 0.5300697189705728,\n",
       "        0.4485615338120492, 0.619270693340969],\n",
       "       [0.5556009690760294, 0.11591585315762065, 0.4024863314607283,\n",
       "        0.7374747816632723, 0.8138153434772374],\n",
       "       ...,\n",
       "       [0.8633430290033725, 0.1561962522635627, 0.8280126611513585,\n",
       "        0.41804234531138906, 0.9905902784133593],\n",
       "       [0.918960219132718, 0.9088638691877889, 0.569220064908199,\n",
       "        0.1041213343282259, 0.9897093446342957],\n",
       "       [0.6538014719362111, 0.7648785319375229, 0.009394880709745701,\n",
       "        0.12036884453585461, 0.6402960921965253]], dtype=object)"
      ]
     },
     "execution_count": 30,
     "metadata": {},
     "output_type": "execute_result"
    }
   ],
   "source": [
    "newdf.to_numpy()"
   ]
  },
  {
   "cell_type": "code",
   "execution_count": 31,
   "metadata": {},
   "outputs": [
    {
     "name": "stderr",
     "output_type": "stream",
     "text": [
      "<ipython-input-31-452ed7015823>:1: SettingWithCopyWarning: \n",
      "A value is trying to be set on a copy of a slice from a DataFrame\n",
      "\n",
      "See the caveats in the documentation: https://pandas.pydata.org/pandas-docs/stable/user_guide/indexing.html#returning-a-view-versus-a-copy\n",
      "  newdf[0][0] = 0.3\n"
     ]
    }
   ],
   "source": [
    "newdf[0][0] = 0.3"
   ]
  },
  {
   "cell_type": "code",
   "execution_count": 32,
   "metadata": {},
   "outputs": [
    {
     "data": {
      "text/html": [
       "<div>\n",
       "<style scoped>\n",
       "    .dataframe tbody tr th:only-of-type {\n",
       "        vertical-align: middle;\n",
       "    }\n",
       "\n",
       "    .dataframe tbody tr th {\n",
       "        vertical-align: top;\n",
       "    }\n",
       "\n",
       "    .dataframe thead th {\n",
       "        text-align: right;\n",
       "    }\n",
       "</style>\n",
       "<table border=\"1\" class=\"dataframe\">\n",
       "  <thead>\n",
       "    <tr style=\"text-align: right;\">\n",
       "      <th></th>\n",
       "      <th>0</th>\n",
       "      <th>1</th>\n",
       "      <th>2</th>\n",
       "      <th>3</th>\n",
       "      <th>4</th>\n",
       "    </tr>\n",
       "  </thead>\n",
       "  <tbody>\n",
       "    <tr>\n",
       "      <th>0</th>\n",
       "      <td>0.3</td>\n",
       "      <td>0.365850</td>\n",
       "      <td>0.783717</td>\n",
       "      <td>0.545371</td>\n",
       "      <td>0.146589</td>\n",
       "    </tr>\n",
       "    <tr>\n",
       "      <th>1</th>\n",
       "      <td>0.539377</td>\n",
       "      <td>0.203045</td>\n",
       "      <td>0.530070</td>\n",
       "      <td>0.448562</td>\n",
       "      <td>0.619271</td>\n",
       "    </tr>\n",
       "    <tr>\n",
       "      <th>2</th>\n",
       "      <td>0.555601</td>\n",
       "      <td>0.115916</td>\n",
       "      <td>0.402486</td>\n",
       "      <td>0.737475</td>\n",
       "      <td>0.813815</td>\n",
       "    </tr>\n",
       "    <tr>\n",
       "      <th>3</th>\n",
       "      <td>0.28419</td>\n",
       "      <td>0.620939</td>\n",
       "      <td>0.954778</td>\n",
       "      <td>0.058859</td>\n",
       "      <td>0.789269</td>\n",
       "    </tr>\n",
       "    <tr>\n",
       "      <th>4</th>\n",
       "      <td>0.84654</td>\n",
       "      <td>0.519684</td>\n",
       "      <td>0.267255</td>\n",
       "      <td>0.927446</td>\n",
       "      <td>0.360093</td>\n",
       "    </tr>\n",
       "  </tbody>\n",
       "</table>\n",
       "</div>"
      ],
      "text/plain": [
       "          0         1         2         3         4\n",
       "0       0.3  0.365850  0.783717  0.545371  0.146589\n",
       "1  0.539377  0.203045  0.530070  0.448562  0.619271\n",
       "2  0.555601  0.115916  0.402486  0.737475  0.813815\n",
       "3   0.28419  0.620939  0.954778  0.058859  0.789269\n",
       "4   0.84654  0.519684  0.267255  0.927446  0.360093"
      ]
     },
     "execution_count": 32,
     "metadata": {},
     "output_type": "execute_result"
    }
   ],
   "source": [
    "newdf.head()"
   ]
  },
  {
   "cell_type": "code",
   "execution_count": 33,
   "metadata": {},
   "outputs": [
    {
     "data": {
      "text/html": [
       "<div>\n",
       "<style scoped>\n",
       "    .dataframe tbody tr th:only-of-type {\n",
       "        vertical-align: middle;\n",
       "    }\n",
       "\n",
       "    .dataframe tbody tr th {\n",
       "        vertical-align: top;\n",
       "    }\n",
       "\n",
       "    .dataframe thead th {\n",
       "        text-align: right;\n",
       "    }\n",
       "</style>\n",
       "<table border=\"1\" class=\"dataframe\">\n",
       "  <thead>\n",
       "    <tr style=\"text-align: right;\">\n",
       "      <th></th>\n",
       "      <th>0</th>\n",
       "      <th>1</th>\n",
       "      <th>2</th>\n",
       "      <th>3</th>\n",
       "      <th>4</th>\n",
       "      <th>5</th>\n",
       "      <th>6</th>\n",
       "      <th>7</th>\n",
       "      <th>8</th>\n",
       "      <th>9</th>\n",
       "      <th>...</th>\n",
       "      <th>324</th>\n",
       "      <th>325</th>\n",
       "      <th>326</th>\n",
       "      <th>327</th>\n",
       "      <th>328</th>\n",
       "      <th>329</th>\n",
       "      <th>330</th>\n",
       "      <th>331</th>\n",
       "      <th>332</th>\n",
       "      <th>333</th>\n",
       "    </tr>\n",
       "  </thead>\n",
       "  <tbody>\n",
       "    <tr>\n",
       "      <th>0</th>\n",
       "      <td>0.3</td>\n",
       "      <td>0.539377</td>\n",
       "      <td>0.555601</td>\n",
       "      <td>0.28419</td>\n",
       "      <td>0.84654</td>\n",
       "      <td>0.68725</td>\n",
       "      <td>0.0197905</td>\n",
       "      <td>0.0178411</td>\n",
       "      <td>0.438238</td>\n",
       "      <td>0.458309</td>\n",
       "      <td>...</td>\n",
       "      <td>0.215958</td>\n",
       "      <td>0.77845</td>\n",
       "      <td>0.935628</td>\n",
       "      <td>0.465083</td>\n",
       "      <td>0.459326</td>\n",
       "      <td>0.0547604</td>\n",
       "      <td>0.0692831</td>\n",
       "      <td>0.863343</td>\n",
       "      <td>0.91896</td>\n",
       "      <td>0.653801</td>\n",
       "    </tr>\n",
       "    <tr>\n",
       "      <th>1</th>\n",
       "      <td>0.36585</td>\n",
       "      <td>0.203045</td>\n",
       "      <td>0.115916</td>\n",
       "      <td>0.620939</td>\n",
       "      <td>0.519684</td>\n",
       "      <td>0.452175</td>\n",
       "      <td>0.00933086</td>\n",
       "      <td>0.763388</td>\n",
       "      <td>0.426305</td>\n",
       "      <td>0.115101</td>\n",
       "      <td>...</td>\n",
       "      <td>0.973236</td>\n",
       "      <td>0.706115</td>\n",
       "      <td>0.570169</td>\n",
       "      <td>0.836218</td>\n",
       "      <td>0.69749</td>\n",
       "      <td>0.572952</td>\n",
       "      <td>0.4725</td>\n",
       "      <td>0.156196</td>\n",
       "      <td>0.908864</td>\n",
       "      <td>0.764879</td>\n",
       "    </tr>\n",
       "    <tr>\n",
       "      <th>2</th>\n",
       "      <td>0.783717</td>\n",
       "      <td>0.53007</td>\n",
       "      <td>0.402486</td>\n",
       "      <td>0.954778</td>\n",
       "      <td>0.267255</td>\n",
       "      <td>0.157524</td>\n",
       "      <td>0.269692</td>\n",
       "      <td>0.253441</td>\n",
       "      <td>0.615476</td>\n",
       "      <td>0.0115516</td>\n",
       "      <td>...</td>\n",
       "      <td>0.487544</td>\n",
       "      <td>0.402431</td>\n",
       "      <td>0.0388337</td>\n",
       "      <td>0.29366</td>\n",
       "      <td>0.323562</td>\n",
       "      <td>0.183001</td>\n",
       "      <td>0.195543</td>\n",
       "      <td>0.828013</td>\n",
       "      <td>0.56922</td>\n",
       "      <td>0.00939488</td>\n",
       "    </tr>\n",
       "    <tr>\n",
       "      <th>3</th>\n",
       "      <td>0.545371</td>\n",
       "      <td>0.448562</td>\n",
       "      <td>0.737475</td>\n",
       "      <td>0.0588594</td>\n",
       "      <td>0.927446</td>\n",
       "      <td>0.0628572</td>\n",
       "      <td>0.334499</td>\n",
       "      <td>0.576642</td>\n",
       "      <td>0.414521</td>\n",
       "      <td>0.671564</td>\n",
       "      <td>...</td>\n",
       "      <td>0.175085</td>\n",
       "      <td>0.671393</td>\n",
       "      <td>0.989174</td>\n",
       "      <td>0.90938</td>\n",
       "      <td>0.0424097</td>\n",
       "      <td>0.782992</td>\n",
       "      <td>0.233997</td>\n",
       "      <td>0.418042</td>\n",
       "      <td>0.104121</td>\n",
       "      <td>0.120369</td>\n",
       "    </tr>\n",
       "    <tr>\n",
       "      <th>4</th>\n",
       "      <td>0.146589</td>\n",
       "      <td>0.619271</td>\n",
       "      <td>0.813815</td>\n",
       "      <td>0.789269</td>\n",
       "      <td>0.360093</td>\n",
       "      <td>0.573466</td>\n",
       "      <td>0.903534</td>\n",
       "      <td>0.867651</td>\n",
       "      <td>0.0369896</td>\n",
       "      <td>0.383171</td>\n",
       "      <td>...</td>\n",
       "      <td>0.78819</td>\n",
       "      <td>0.0405571</td>\n",
       "      <td>0.221821</td>\n",
       "      <td>0.437552</td>\n",
       "      <td>0.305949</td>\n",
       "      <td>0.0373413</td>\n",
       "      <td>0.538925</td>\n",
       "      <td>0.99059</td>\n",
       "      <td>0.989709</td>\n",
       "      <td>0.640296</td>\n",
       "    </tr>\n",
       "  </tbody>\n",
       "</table>\n",
       "<p>5 rows × 334 columns</p>\n",
       "</div>"
      ],
      "text/plain": [
       "        0         1         2          3         4          5           6    \\\n",
       "0       0.3  0.539377  0.555601    0.28419   0.84654    0.68725   0.0197905   \n",
       "1   0.36585  0.203045  0.115916   0.620939  0.519684   0.452175  0.00933086   \n",
       "2  0.783717   0.53007  0.402486   0.954778  0.267255   0.157524    0.269692   \n",
       "3  0.545371  0.448562  0.737475  0.0588594  0.927446  0.0628572    0.334499   \n",
       "4  0.146589  0.619271  0.813815   0.789269  0.360093   0.573466    0.903534   \n",
       "\n",
       "         7          8          9    ...       324        325        326  \\\n",
       "0  0.0178411   0.438238   0.458309  ...  0.215958    0.77845   0.935628   \n",
       "1   0.763388   0.426305   0.115101  ...  0.973236   0.706115   0.570169   \n",
       "2   0.253441   0.615476  0.0115516  ...  0.487544   0.402431  0.0388337   \n",
       "3   0.576642   0.414521   0.671564  ...  0.175085   0.671393   0.989174   \n",
       "4   0.867651  0.0369896   0.383171  ...   0.78819  0.0405571   0.221821   \n",
       "\n",
       "        327        328        329        330       331       332         333  \n",
       "0  0.465083   0.459326  0.0547604  0.0692831  0.863343   0.91896    0.653801  \n",
       "1  0.836218    0.69749   0.572952     0.4725  0.156196  0.908864    0.764879  \n",
       "2   0.29366   0.323562   0.183001   0.195543  0.828013   0.56922  0.00939488  \n",
       "3   0.90938  0.0424097   0.782992   0.233997  0.418042  0.104121    0.120369  \n",
       "4  0.437552   0.305949  0.0373413   0.538925   0.99059  0.989709    0.640296  \n",
       "\n",
       "[5 rows x 334 columns]"
      ]
     },
     "execution_count": 33,
     "metadata": {},
     "output_type": "execute_result"
    }
   ],
   "source": [
    "newdf.T #transform(exchange) columns and rows"
   ]
  },
  {
   "cell_type": "code",
   "execution_count": 34,
   "metadata": {},
   "outputs": [
    {
     "data": {
      "text/html": [
       "<div>\n",
       "<style scoped>\n",
       "    .dataframe tbody tr th:only-of-type {\n",
       "        vertical-align: middle;\n",
       "    }\n",
       "\n",
       "    .dataframe tbody tr th {\n",
       "        vertical-align: top;\n",
       "    }\n",
       "\n",
       "    .dataframe thead th {\n",
       "        text-align: right;\n",
       "    }\n",
       "</style>\n",
       "<table border=\"1\" class=\"dataframe\">\n",
       "  <thead>\n",
       "    <tr style=\"text-align: right;\">\n",
       "      <th></th>\n",
       "      <th>0</th>\n",
       "      <th>1</th>\n",
       "      <th>2</th>\n",
       "      <th>3</th>\n",
       "      <th>4</th>\n",
       "    </tr>\n",
       "  </thead>\n",
       "  <tbody>\n",
       "    <tr>\n",
       "      <th>0</th>\n",
       "      <td>0.3</td>\n",
       "      <td>0.365850</td>\n",
       "      <td>0.783717</td>\n",
       "      <td>0.545371</td>\n",
       "      <td>0.146589</td>\n",
       "    </tr>\n",
       "    <tr>\n",
       "      <th>1</th>\n",
       "      <td>0.539377</td>\n",
       "      <td>0.203045</td>\n",
       "      <td>0.530070</td>\n",
       "      <td>0.448562</td>\n",
       "      <td>0.619271</td>\n",
       "    </tr>\n",
       "    <tr>\n",
       "      <th>2</th>\n",
       "      <td>0.555601</td>\n",
       "      <td>0.115916</td>\n",
       "      <td>0.402486</td>\n",
       "      <td>0.737475</td>\n",
       "      <td>0.813815</td>\n",
       "    </tr>\n",
       "    <tr>\n",
       "      <th>3</th>\n",
       "      <td>0.28419</td>\n",
       "      <td>0.620939</td>\n",
       "      <td>0.954778</td>\n",
       "      <td>0.058859</td>\n",
       "      <td>0.789269</td>\n",
       "    </tr>\n",
       "    <tr>\n",
       "      <th>4</th>\n",
       "      <td>0.84654</td>\n",
       "      <td>0.519684</td>\n",
       "      <td>0.267255</td>\n",
       "      <td>0.927446</td>\n",
       "      <td>0.360093</td>\n",
       "    </tr>\n",
       "  </tbody>\n",
       "</table>\n",
       "</div>"
      ],
      "text/plain": [
       "          0         1         2         3         4\n",
       "0       0.3  0.365850  0.783717  0.545371  0.146589\n",
       "1  0.539377  0.203045  0.530070  0.448562  0.619271\n",
       "2  0.555601  0.115916  0.402486  0.737475  0.813815\n",
       "3   0.28419  0.620939  0.954778  0.058859  0.789269\n",
       "4   0.84654  0.519684  0.267255  0.927446  0.360093"
      ]
     },
     "execution_count": 34,
     "metadata": {},
     "output_type": "execute_result"
    }
   ],
   "source": [
    "newdf.head()"
   ]
  },
  {
   "cell_type": "code",
   "execution_count": 43,
   "metadata": {},
   "outputs": [
    {
     "data": {
      "text/html": [
       "<div>\n",
       "<style scoped>\n",
       "    .dataframe tbody tr th:only-of-type {\n",
       "        vertical-align: middle;\n",
       "    }\n",
       "\n",
       "    .dataframe tbody tr th {\n",
       "        vertical-align: top;\n",
       "    }\n",
       "\n",
       "    .dataframe thead th {\n",
       "        text-align: right;\n",
       "    }\n",
       "</style>\n",
       "<table border=\"1\" class=\"dataframe\">\n",
       "  <thead>\n",
       "    <tr style=\"text-align: right;\">\n",
       "      <th></th>\n",
       "      <th>4</th>\n",
       "      <th>3</th>\n",
       "      <th>2</th>\n",
       "      <th>1</th>\n",
       "      <th>0</th>\n",
       "    </tr>\n",
       "  </thead>\n",
       "  <tbody>\n",
       "    <tr>\n",
       "      <th>0</th>\n",
       "      <td>0.146589</td>\n",
       "      <td>0.545371</td>\n",
       "      <td>0.783717</td>\n",
       "      <td>0.365850</td>\n",
       "      <td>0.3</td>\n",
       "    </tr>\n",
       "    <tr>\n",
       "      <th>1</th>\n",
       "      <td>0.619271</td>\n",
       "      <td>0.448562</td>\n",
       "      <td>0.530070</td>\n",
       "      <td>0.203045</td>\n",
       "      <td>0.539377</td>\n",
       "    </tr>\n",
       "    <tr>\n",
       "      <th>2</th>\n",
       "      <td>0.813815</td>\n",
       "      <td>0.737475</td>\n",
       "      <td>0.402486</td>\n",
       "      <td>0.115916</td>\n",
       "      <td>0.555601</td>\n",
       "    </tr>\n",
       "    <tr>\n",
       "      <th>3</th>\n",
       "      <td>0.789269</td>\n",
       "      <td>0.058859</td>\n",
       "      <td>0.954778</td>\n",
       "      <td>0.620939</td>\n",
       "      <td>0.28419</td>\n",
       "    </tr>\n",
       "    <tr>\n",
       "      <th>4</th>\n",
       "      <td>0.360093</td>\n",
       "      <td>0.927446</td>\n",
       "      <td>0.267255</td>\n",
       "      <td>0.519684</td>\n",
       "      <td>0.84654</td>\n",
       "    </tr>\n",
       "    <tr>\n",
       "      <th>...</th>\n",
       "      <td>...</td>\n",
       "      <td>...</td>\n",
       "      <td>...</td>\n",
       "      <td>...</td>\n",
       "      <td>...</td>\n",
       "    </tr>\n",
       "    <tr>\n",
       "      <th>329</th>\n",
       "      <td>0.037341</td>\n",
       "      <td>0.782992</td>\n",
       "      <td>0.183001</td>\n",
       "      <td>0.572952</td>\n",
       "      <td>0.0547604</td>\n",
       "    </tr>\n",
       "    <tr>\n",
       "      <th>330</th>\n",
       "      <td>0.538925</td>\n",
       "      <td>0.233997</td>\n",
       "      <td>0.195543</td>\n",
       "      <td>0.472500</td>\n",
       "      <td>0.0692831</td>\n",
       "    </tr>\n",
       "    <tr>\n",
       "      <th>331</th>\n",
       "      <td>0.990590</td>\n",
       "      <td>0.418042</td>\n",
       "      <td>0.828013</td>\n",
       "      <td>0.156196</td>\n",
       "      <td>0.863343</td>\n",
       "    </tr>\n",
       "    <tr>\n",
       "      <th>332</th>\n",
       "      <td>0.989709</td>\n",
       "      <td>0.104121</td>\n",
       "      <td>0.569220</td>\n",
       "      <td>0.908864</td>\n",
       "      <td>0.91896</td>\n",
       "    </tr>\n",
       "    <tr>\n",
       "      <th>333</th>\n",
       "      <td>0.640296</td>\n",
       "      <td>0.120369</td>\n",
       "      <td>0.009395</td>\n",
       "      <td>0.764879</td>\n",
       "      <td>0.653801</td>\n",
       "    </tr>\n",
       "  </tbody>\n",
       "</table>\n",
       "<p>334 rows × 5 columns</p>\n",
       "</div>"
      ],
      "text/plain": [
       "            4         3         2         1          0\n",
       "0    0.146589  0.545371  0.783717  0.365850        0.3\n",
       "1    0.619271  0.448562  0.530070  0.203045   0.539377\n",
       "2    0.813815  0.737475  0.402486  0.115916   0.555601\n",
       "3    0.789269  0.058859  0.954778  0.620939    0.28419\n",
       "4    0.360093  0.927446  0.267255  0.519684    0.84654\n",
       "..        ...       ...       ...       ...        ...\n",
       "329  0.037341  0.782992  0.183001  0.572952  0.0547604\n",
       "330  0.538925  0.233997  0.195543  0.472500  0.0692831\n",
       "331  0.990590  0.418042  0.828013  0.156196   0.863343\n",
       "332  0.989709  0.104121  0.569220  0.908864    0.91896\n",
       "333  0.640296  0.120369  0.009395  0.764879   0.653801\n",
       "\n",
       "[334 rows x 5 columns]"
      ]
     },
     "execution_count": 43,
     "metadata": {},
     "output_type": "execute_result"
    }
   ],
   "source": [
    "newdf.sort_index(axis=1,ascending=False) #axis=0 is row and axis=1 is column and by default ascending = true"
   ]
  },
  {
   "cell_type": "code",
   "execution_count": 44,
   "metadata": {},
   "outputs": [
    {
     "data": {
      "text/plain": [
       "pandas.core.series.Series"
      ]
     },
     "execution_count": 44,
     "metadata": {},
     "output_type": "execute_result"
    }
   ],
   "source": [
    "type(newdf[0])"
   ]
  },
  {
   "cell_type": "markdown",
   "metadata": {},
   "source": [
    "\n",
    "\n",
    "simply Dataframe is a combination of series "
   ]
  },
  {
   "cell_type": "code",
   "execution_count": 45,
   "metadata": {},
   "outputs": [],
   "source": [
    "# newdf.sort_index(axis=0) #again to back"
   ]
  },
  {
   "cell_type": "code",
   "execution_count": 46,
   "metadata": {},
   "outputs": [],
   "source": [
    "newdf2 = newdf"
   ]
  },
  {
   "cell_type": "code",
   "execution_count": 47,
   "metadata": {},
   "outputs": [
    {
     "data": {
      "text/html": [
       "<div>\n",
       "<style scoped>\n",
       "    .dataframe tbody tr th:only-of-type {\n",
       "        vertical-align: middle;\n",
       "    }\n",
       "\n",
       "    .dataframe tbody tr th {\n",
       "        vertical-align: top;\n",
       "    }\n",
       "\n",
       "    .dataframe thead th {\n",
       "        text-align: right;\n",
       "    }\n",
       "</style>\n",
       "<table border=\"1\" class=\"dataframe\">\n",
       "  <thead>\n",
       "    <tr style=\"text-align: right;\">\n",
       "      <th></th>\n",
       "      <th>0</th>\n",
       "      <th>1</th>\n",
       "      <th>2</th>\n",
       "      <th>3</th>\n",
       "      <th>4</th>\n",
       "    </tr>\n",
       "  </thead>\n",
       "  <tbody>\n",
       "    <tr>\n",
       "      <th>0</th>\n",
       "      <td>0.3</td>\n",
       "      <td>0.365850</td>\n",
       "      <td>0.783717</td>\n",
       "      <td>0.545371</td>\n",
       "      <td>0.146589</td>\n",
       "    </tr>\n",
       "    <tr>\n",
       "      <th>1</th>\n",
       "      <td>0.539377</td>\n",
       "      <td>0.203045</td>\n",
       "      <td>0.530070</td>\n",
       "      <td>0.448562</td>\n",
       "      <td>0.619271</td>\n",
       "    </tr>\n",
       "    <tr>\n",
       "      <th>2</th>\n",
       "      <td>0.555601</td>\n",
       "      <td>0.115916</td>\n",
       "      <td>0.402486</td>\n",
       "      <td>0.737475</td>\n",
       "      <td>0.813815</td>\n",
       "    </tr>\n",
       "    <tr>\n",
       "      <th>3</th>\n",
       "      <td>0.28419</td>\n",
       "      <td>0.620939</td>\n",
       "      <td>0.954778</td>\n",
       "      <td>0.058859</td>\n",
       "      <td>0.789269</td>\n",
       "    </tr>\n",
       "    <tr>\n",
       "      <th>4</th>\n",
       "      <td>0.84654</td>\n",
       "      <td>0.519684</td>\n",
       "      <td>0.267255</td>\n",
       "      <td>0.927446</td>\n",
       "      <td>0.360093</td>\n",
       "    </tr>\n",
       "  </tbody>\n",
       "</table>\n",
       "</div>"
      ],
      "text/plain": [
       "          0         1         2         3         4\n",
       "0       0.3  0.365850  0.783717  0.545371  0.146589\n",
       "1  0.539377  0.203045  0.530070  0.448562  0.619271\n",
       "2  0.555601  0.115916  0.402486  0.737475  0.813815\n",
       "3   0.28419  0.620939  0.954778  0.058859  0.789269\n",
       "4   0.84654  0.519684  0.267255  0.927446  0.360093"
      ]
     },
     "execution_count": 47,
     "metadata": {},
     "output_type": "execute_result"
    }
   ],
   "source": [
    "newdf.head()"
   ]
  },
  {
   "cell_type": "code",
   "execution_count": 71,
   "metadata": {},
   "outputs": [],
   "source": [
    "newdf3 = newdf.copy()"
   ]
  },
  {
   "cell_type": "code",
   "execution_count": 72,
   "metadata": {},
   "outputs": [
    {
     "data": {
      "text/html": [
       "<div>\n",
       "<style scoped>\n",
       "    .dataframe tbody tr th:only-of-type {\n",
       "        vertical-align: middle;\n",
       "    }\n",
       "\n",
       "    .dataframe tbody tr th {\n",
       "        vertical-align: top;\n",
       "    }\n",
       "\n",
       "    .dataframe thead th {\n",
       "        text-align: right;\n",
       "    }\n",
       "</style>\n",
       "<table border=\"1\" class=\"dataframe\">\n",
       "  <thead>\n",
       "    <tr style=\"text-align: right;\">\n",
       "      <th></th>\n",
       "      <th>0</th>\n",
       "      <th>1</th>\n",
       "      <th>2</th>\n",
       "      <th>3</th>\n",
       "      <th>4</th>\n",
       "    </tr>\n",
       "  </thead>\n",
       "  <tbody>\n",
       "    <tr>\n",
       "      <th>0</th>\n",
       "      <td>0.3</td>\n",
       "      <td>0.365850</td>\n",
       "      <td>0.783717</td>\n",
       "      <td>0.545371</td>\n",
       "      <td>0.146589</td>\n",
       "    </tr>\n",
       "    <tr>\n",
       "      <th>1</th>\n",
       "      <td>0.539377</td>\n",
       "      <td>0.203045</td>\n",
       "      <td>0.530070</td>\n",
       "      <td>0.448562</td>\n",
       "      <td>0.619271</td>\n",
       "    </tr>\n",
       "    <tr>\n",
       "      <th>2</th>\n",
       "      <td>0.555601</td>\n",
       "      <td>0.115916</td>\n",
       "      <td>0.402486</td>\n",
       "      <td>0.737475</td>\n",
       "      <td>0.813815</td>\n",
       "    </tr>\n",
       "    <tr>\n",
       "      <th>3</th>\n",
       "      <td>0.28419</td>\n",
       "      <td>0.620939</td>\n",
       "      <td>0.954778</td>\n",
       "      <td>0.058859</td>\n",
       "      <td>0.789269</td>\n",
       "    </tr>\n",
       "    <tr>\n",
       "      <th>4</th>\n",
       "      <td>0.84654</td>\n",
       "      <td>0.519684</td>\n",
       "      <td>0.267255</td>\n",
       "      <td>0.927446</td>\n",
       "      <td>0.360093</td>\n",
       "    </tr>\n",
       "  </tbody>\n",
       "</table>\n",
       "</div>"
      ],
      "text/plain": [
       "          0         1         2         3         4\n",
       "0       0.3  0.365850  0.783717  0.545371  0.146589\n",
       "1  0.539377  0.203045  0.530070  0.448562  0.619271\n",
       "2  0.555601  0.115916  0.402486  0.737475  0.813815\n",
       "3   0.28419  0.620939  0.954778  0.058859  0.789269\n",
       "4   0.84654  0.519684  0.267255  0.927446  0.360093"
      ]
     },
     "execution_count": 72,
     "metadata": {},
     "output_type": "execute_result"
    }
   ],
   "source": [
    "newdf3.head()"
   ]
  },
  {
   "cell_type": "code",
   "execution_count": 73,
   "metadata": {},
   "outputs": [
    {
     "ename": "NameError",
     "evalue": "name 'hello' is not defined",
     "output_type": "error",
     "traceback": [
      "\u001b[0;31m---------------------------------------------------------------------------\u001b[0m",
      "\u001b[0;31mNameError\u001b[0m                                 Traceback (most recent call last)",
      "\u001b[0;32m<ipython-input-73-2ee74f55b42f>\u001b[0m in \u001b[0;36m<module>\u001b[0;34m\u001b[0m\n\u001b[0;32m----> 1\u001b[0;31m \u001b[0mnewdf3\u001b[0m\u001b[0;34m[\u001b[0m\u001b[0;36m0\u001b[0m\u001b[0;34m]\u001b[0m\u001b[0;34m[\u001b[0m\u001b[0;36m0\u001b[0m\u001b[0;34m]\u001b[0m \u001b[0;34m=\u001b[0m \u001b[0mhello\u001b[0m\u001b[0;34m\u001b[0m\u001b[0;34m\u001b[0m\u001b[0m\n\u001b[0m",
      "\u001b[0;31mNameError\u001b[0m: name 'hello' is not defined"
     ]
    }
   ],
   "source": [
    "newdf3[0][0] = hello"
   ]
  },
  {
   "cell_type": "code",
   "execution_count": 74,
   "metadata": {},
   "outputs": [
    {
     "data": {
      "text/html": [
       "<div>\n",
       "<style scoped>\n",
       "    .dataframe tbody tr th:only-of-type {\n",
       "        vertical-align: middle;\n",
       "    }\n",
       "\n",
       "    .dataframe tbody tr th {\n",
       "        vertical-align: top;\n",
       "    }\n",
       "\n",
       "    .dataframe thead th {\n",
       "        text-align: right;\n",
       "    }\n",
       "</style>\n",
       "<table border=\"1\" class=\"dataframe\">\n",
       "  <thead>\n",
       "    <tr style=\"text-align: right;\">\n",
       "      <th></th>\n",
       "      <th>0</th>\n",
       "      <th>1</th>\n",
       "      <th>2</th>\n",
       "      <th>3</th>\n",
       "      <th>4</th>\n",
       "    </tr>\n",
       "  </thead>\n",
       "  <tbody>\n",
       "    <tr>\n",
       "      <th>0</th>\n",
       "      <td>0.3</td>\n",
       "      <td>0.365850</td>\n",
       "      <td>0.783717</td>\n",
       "      <td>0.545371</td>\n",
       "      <td>0.146589</td>\n",
       "    </tr>\n",
       "    <tr>\n",
       "      <th>1</th>\n",
       "      <td>0.539377</td>\n",
       "      <td>0.203045</td>\n",
       "      <td>0.530070</td>\n",
       "      <td>0.448562</td>\n",
       "      <td>0.619271</td>\n",
       "    </tr>\n",
       "    <tr>\n",
       "      <th>2</th>\n",
       "      <td>0.555601</td>\n",
       "      <td>0.115916</td>\n",
       "      <td>0.402486</td>\n",
       "      <td>0.737475</td>\n",
       "      <td>0.813815</td>\n",
       "    </tr>\n",
       "    <tr>\n",
       "      <th>3</th>\n",
       "      <td>0.28419</td>\n",
       "      <td>0.620939</td>\n",
       "      <td>0.954778</td>\n",
       "      <td>0.058859</td>\n",
       "      <td>0.789269</td>\n",
       "    </tr>\n",
       "    <tr>\n",
       "      <th>4</th>\n",
       "      <td>0.84654</td>\n",
       "      <td>0.519684</td>\n",
       "      <td>0.267255</td>\n",
       "      <td>0.927446</td>\n",
       "      <td>0.360093</td>\n",
       "    </tr>\n",
       "  </tbody>\n",
       "</table>\n",
       "</div>"
      ],
      "text/plain": [
       "          0         1         2         3         4\n",
       "0       0.3  0.365850  0.783717  0.545371  0.146589\n",
       "1  0.539377  0.203045  0.530070  0.448562  0.619271\n",
       "2  0.555601  0.115916  0.402486  0.737475  0.813815\n",
       "3   0.28419  0.620939  0.954778  0.058859  0.789269\n",
       "4   0.84654  0.519684  0.267255  0.927446  0.360093"
      ]
     },
     "execution_count": 74,
     "metadata": {},
     "output_type": "execute_result"
    }
   ],
   "source": [
    "newdf3.head()"
   ]
  },
  {
   "cell_type": "code",
   "execution_count": 75,
   "metadata": {},
   "outputs": [
    {
     "data": {
      "text/html": [
       "<div>\n",
       "<style scoped>\n",
       "    .dataframe tbody tr th:only-of-type {\n",
       "        vertical-align: middle;\n",
       "    }\n",
       "\n",
       "    .dataframe tbody tr th {\n",
       "        vertical-align: top;\n",
       "    }\n",
       "\n",
       "    .dataframe thead th {\n",
       "        text-align: right;\n",
       "    }\n",
       "</style>\n",
       "<table border=\"1\" class=\"dataframe\">\n",
       "  <thead>\n",
       "    <tr style=\"text-align: right;\">\n",
       "      <th></th>\n",
       "      <th>0</th>\n",
       "      <th>1</th>\n",
       "      <th>2</th>\n",
       "      <th>3</th>\n",
       "      <th>4</th>\n",
       "    </tr>\n",
       "  </thead>\n",
       "  <tbody>\n",
       "    <tr>\n",
       "      <th>0</th>\n",
       "      <td>0.3</td>\n",
       "      <td>0.365850</td>\n",
       "      <td>0.783717</td>\n",
       "      <td>0.545371</td>\n",
       "      <td>0.146589</td>\n",
       "    </tr>\n",
       "    <tr>\n",
       "      <th>1</th>\n",
       "      <td>0.539377</td>\n",
       "      <td>0.203045</td>\n",
       "      <td>0.530070</td>\n",
       "      <td>0.448562</td>\n",
       "      <td>0.619271</td>\n",
       "    </tr>\n",
       "    <tr>\n",
       "      <th>2</th>\n",
       "      <td>0.555601</td>\n",
       "      <td>0.115916</td>\n",
       "      <td>0.402486</td>\n",
       "      <td>0.737475</td>\n",
       "      <td>0.813815</td>\n",
       "    </tr>\n",
       "    <tr>\n",
       "      <th>3</th>\n",
       "      <td>0.28419</td>\n",
       "      <td>0.620939</td>\n",
       "      <td>0.954778</td>\n",
       "      <td>0.058859</td>\n",
       "      <td>0.789269</td>\n",
       "    </tr>\n",
       "    <tr>\n",
       "      <th>4</th>\n",
       "      <td>0.84654</td>\n",
       "      <td>0.519684</td>\n",
       "      <td>0.267255</td>\n",
       "      <td>0.927446</td>\n",
       "      <td>0.360093</td>\n",
       "    </tr>\n",
       "  </tbody>\n",
       "</table>\n",
       "</div>"
      ],
      "text/plain": [
       "          0         1         2         3         4\n",
       "0       0.3  0.365850  0.783717  0.545371  0.146589\n",
       "1  0.539377  0.203045  0.530070  0.448562  0.619271\n",
       "2  0.555601  0.115916  0.402486  0.737475  0.813815\n",
       "3   0.28419  0.620939  0.954778  0.058859  0.789269\n",
       "4   0.84654  0.519684  0.267255  0.927446  0.360093"
      ]
     },
     "execution_count": 75,
     "metadata": {},
     "output_type": "execute_result"
    }
   ],
   "source": [
    "newdf.head(5)"
   ]
  },
  {
   "cell_type": "markdown",
   "metadata": {},
   "source": [
    "### here we can change the column indexing from numbers to alphabhets"
   ]
  },
  {
   "cell_type": "code",
   "execution_count": 76,
   "metadata": {},
   "outputs": [],
   "source": [
    "newdf.columns = list(\"ABCDE\")"
   ]
  },
  {
   "cell_type": "code",
   "execution_count": 77,
   "metadata": {},
   "outputs": [
    {
     "data": {
      "text/html": [
       "<div>\n",
       "<style scoped>\n",
       "    .dataframe tbody tr th:only-of-type {\n",
       "        vertical-align: middle;\n",
       "    }\n",
       "\n",
       "    .dataframe tbody tr th {\n",
       "        vertical-align: top;\n",
       "    }\n",
       "\n",
       "    .dataframe thead th {\n",
       "        text-align: right;\n",
       "    }\n",
       "</style>\n",
       "<table border=\"1\" class=\"dataframe\">\n",
       "  <thead>\n",
       "    <tr style=\"text-align: right;\">\n",
       "      <th></th>\n",
       "      <th>A</th>\n",
       "      <th>B</th>\n",
       "      <th>C</th>\n",
       "      <th>D</th>\n",
       "      <th>E</th>\n",
       "    </tr>\n",
       "  </thead>\n",
       "  <tbody>\n",
       "    <tr>\n",
       "      <th>0</th>\n",
       "      <td>0.3</td>\n",
       "      <td>0.365850</td>\n",
       "      <td>0.783717</td>\n",
       "      <td>0.545371</td>\n",
       "      <td>0.146589</td>\n",
       "    </tr>\n",
       "    <tr>\n",
       "      <th>1</th>\n",
       "      <td>0.539377</td>\n",
       "      <td>0.203045</td>\n",
       "      <td>0.530070</td>\n",
       "      <td>0.448562</td>\n",
       "      <td>0.619271</td>\n",
       "    </tr>\n",
       "    <tr>\n",
       "      <th>2</th>\n",
       "      <td>0.555601</td>\n",
       "      <td>0.115916</td>\n",
       "      <td>0.402486</td>\n",
       "      <td>0.737475</td>\n",
       "      <td>0.813815</td>\n",
       "    </tr>\n",
       "  </tbody>\n",
       "</table>\n",
       "</div>"
      ],
      "text/plain": [
       "          A         B         C         D         E\n",
       "0       0.3  0.365850  0.783717  0.545371  0.146589\n",
       "1  0.539377  0.203045  0.530070  0.448562  0.619271\n",
       "2  0.555601  0.115916  0.402486  0.737475  0.813815"
      ]
     },
     "execution_count": 77,
     "metadata": {},
     "output_type": "execute_result"
    }
   ],
   "source": [
    "newdf.head(3)"
   ]
  },
  {
   "cell_type": "code",
   "execution_count": 78,
   "metadata": {},
   "outputs": [],
   "source": [
    "newdf.loc[0,0]=654"
   ]
  },
  {
   "cell_type": "code",
   "execution_count": 85,
   "metadata": {},
   "outputs": [
    {
     "data": {
      "text/html": [
       "<div>\n",
       "<style scoped>\n",
       "    .dataframe tbody tr th:only-of-type {\n",
       "        vertical-align: middle;\n",
       "    }\n",
       "\n",
       "    .dataframe tbody tr th {\n",
       "        vertical-align: top;\n",
       "    }\n",
       "\n",
       "    .dataframe thead th {\n",
       "        text-align: right;\n",
       "    }\n",
       "</style>\n",
       "<table border=\"1\" class=\"dataframe\">\n",
       "  <thead>\n",
       "    <tr style=\"text-align: right;\">\n",
       "      <th></th>\n",
       "      <th>A</th>\n",
       "      <th>B</th>\n",
       "      <th>C</th>\n",
       "      <th>D</th>\n",
       "      <th>E</th>\n",
       "      <th>0</th>\n",
       "    </tr>\n",
       "  </thead>\n",
       "  <tbody>\n",
       "    <tr>\n",
       "      <th>0</th>\n",
       "      <td>555</td>\n",
       "      <td>0.365850</td>\n",
       "      <td>0.783717</td>\n",
       "      <td>0.545371</td>\n",
       "      <td>0.146589</td>\n",
       "      <td>654.0</td>\n",
       "    </tr>\n",
       "    <tr>\n",
       "      <th>1</th>\n",
       "      <td>0.539377</td>\n",
       "      <td>0.203045</td>\n",
       "      <td>0.530070</td>\n",
       "      <td>0.448562</td>\n",
       "      <td>0.619271</td>\n",
       "      <td>NaN</td>\n",
       "    </tr>\n",
       "    <tr>\n",
       "      <th>2</th>\n",
       "      <td>0.555601</td>\n",
       "      <td>0.115916</td>\n",
       "      <td>0.402486</td>\n",
       "      <td>0.737475</td>\n",
       "      <td>0.813815</td>\n",
       "      <td>NaN</td>\n",
       "    </tr>\n",
       "    <tr>\n",
       "      <th>3</th>\n",
       "      <td>0.28419</td>\n",
       "      <td>0.620939</td>\n",
       "      <td>0.954778</td>\n",
       "      <td>0.058859</td>\n",
       "      <td>0.789269</td>\n",
       "      <td>NaN</td>\n",
       "    </tr>\n",
       "    <tr>\n",
       "      <th>4</th>\n",
       "      <td>0.84654</td>\n",
       "      <td>0.519684</td>\n",
       "      <td>0.267255</td>\n",
       "      <td>0.927446</td>\n",
       "      <td>0.360093</td>\n",
       "      <td>NaN</td>\n",
       "    </tr>\n",
       "  </tbody>\n",
       "</table>\n",
       "</div>"
      ],
      "text/plain": [
       "          A         B         C         D         E      0\n",
       "0       555  0.365850  0.783717  0.545371  0.146589  654.0\n",
       "1  0.539377  0.203045  0.530070  0.448562  0.619271    NaN\n",
       "2  0.555601  0.115916  0.402486  0.737475  0.813815    NaN\n",
       "3   0.28419  0.620939  0.954778  0.058859  0.789269    NaN\n",
       "4   0.84654  0.519684  0.267255  0.927446  0.360093    NaN"
      ]
     },
     "execution_count": 85,
     "metadata": {},
     "output_type": "execute_result"
    }
   ],
   "source": [
    "newdf.head()#it will not change anything in the dataframe and it will create a new column as you can see"
   ]
  },
  {
   "cell_type": "markdown",
   "metadata": {},
   "source": [
    "## loc method"
   ]
  },
  {
   "cell_type": "code",
   "execution_count": 83,
   "metadata": {},
   "outputs": [],
   "source": [
    "newdf.loc[0,'A']=555"
   ]
  },
  {
   "cell_type": "code",
   "execution_count": 84,
   "metadata": {},
   "outputs": [
    {
     "data": {
      "text/html": [
       "<div>\n",
       "<style scoped>\n",
       "    .dataframe tbody tr th:only-of-type {\n",
       "        vertical-align: middle;\n",
       "    }\n",
       "\n",
       "    .dataframe tbody tr th {\n",
       "        vertical-align: top;\n",
       "    }\n",
       "\n",
       "    .dataframe thead th {\n",
       "        text-align: right;\n",
       "    }\n",
       "</style>\n",
       "<table border=\"1\" class=\"dataframe\">\n",
       "  <thead>\n",
       "    <tr style=\"text-align: right;\">\n",
       "      <th></th>\n",
       "      <th>A</th>\n",
       "      <th>B</th>\n",
       "      <th>C</th>\n",
       "      <th>D</th>\n",
       "      <th>E</th>\n",
       "      <th>0</th>\n",
       "    </tr>\n",
       "  </thead>\n",
       "  <tbody>\n",
       "    <tr>\n",
       "      <th>0</th>\n",
       "      <td>555</td>\n",
       "      <td>0.365850</td>\n",
       "      <td>0.783717</td>\n",
       "      <td>0.545371</td>\n",
       "      <td>0.146589</td>\n",
       "      <td>654.0</td>\n",
       "    </tr>\n",
       "    <tr>\n",
       "      <th>1</th>\n",
       "      <td>0.539377</td>\n",
       "      <td>0.203045</td>\n",
       "      <td>0.530070</td>\n",
       "      <td>0.448562</td>\n",
       "      <td>0.619271</td>\n",
       "      <td>NaN</td>\n",
       "    </tr>\n",
       "    <tr>\n",
       "      <th>2</th>\n",
       "      <td>0.555601</td>\n",
       "      <td>0.115916</td>\n",
       "      <td>0.402486</td>\n",
       "      <td>0.737475</td>\n",
       "      <td>0.813815</td>\n",
       "      <td>NaN</td>\n",
       "    </tr>\n",
       "    <tr>\n",
       "      <th>3</th>\n",
       "      <td>0.28419</td>\n",
       "      <td>0.620939</td>\n",
       "      <td>0.954778</td>\n",
       "      <td>0.058859</td>\n",
       "      <td>0.789269</td>\n",
       "      <td>NaN</td>\n",
       "    </tr>\n",
       "    <tr>\n",
       "      <th>4</th>\n",
       "      <td>0.84654</td>\n",
       "      <td>0.519684</td>\n",
       "      <td>0.267255</td>\n",
       "      <td>0.927446</td>\n",
       "      <td>0.360093</td>\n",
       "      <td>NaN</td>\n",
       "    </tr>\n",
       "  </tbody>\n",
       "</table>\n",
       "</div>"
      ],
      "text/plain": [
       "          A         B         C         D         E      0\n",
       "0       555  0.365850  0.783717  0.545371  0.146589  654.0\n",
       "1  0.539377  0.203045  0.530070  0.448562  0.619271    NaN\n",
       "2  0.555601  0.115916  0.402486  0.737475  0.813815    NaN\n",
       "3   0.28419  0.620939  0.954778  0.058859  0.789269    NaN\n",
       "4   0.84654  0.519684  0.267255  0.927446  0.360093    NaN"
      ]
     },
     "execution_count": 84,
     "metadata": {},
     "output_type": "execute_result"
    }
   ],
   "source": [
    "newdf.head()"
   ]
  },
  {
   "cell_type": "markdown",
   "metadata": {},
   "source": [
    "As you can see it will change the value of the cell because we have run the command of column index by A"
   ]
  },
  {
   "cell_type": "code",
   "execution_count": null,
   "metadata": {},
   "outputs": [],
   "source": []
  }
 ],
 "metadata": {
  "kernelspec": {
   "display_name": "Python 3",
   "language": "python",
   "name": "python3"
  },
  "language_info": {
   "codemirror_mode": {
    "name": "ipython",
    "version": 3
   },
   "file_extension": ".py",
   "mimetype": "text/x-python",
   "name": "python",
   "nbconvert_exporter": "python",
   "pygments_lexer": "ipython3",
   "version": "3.8.2"
  }
 },
 "nbformat": 4,
 "nbformat_minor": 4
}
